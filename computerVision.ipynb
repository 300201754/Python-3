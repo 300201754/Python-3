{
  "nbformat": 4,
  "nbformat_minor": 0,
  "metadata": {
    "colab": {
      "name": "computerVision.ipynb",
      "provenance": [],
      "collapsed_sections": [],
      "authorship_tag": "ABX9TyM0GlaqQ890uW6UMPO1g8e9",
      "include_colab_link": true
    },
    "kernelspec": {
      "name": "python3",
      "display_name": "Python 3"
    }
  },
  "cells": [
    {
      "cell_type": "markdown",
      "metadata": {
        "id": "view-in-github",
        "colab_type": "text"
      },
      "source": [
        "<a href=\"https://colab.research.google.com/github/300201754/Python-3/blob/master/computerVision.ipynb\" target=\"_parent\"><img src=\"https://colab.research.google.com/assets/colab-badge.svg\" alt=\"Open In Colab\"/></a>"
      ]
    },
    {
      "cell_type": "code",
      "metadata": {
        "id": "mZF3WBkym0Xe",
        "colab_type": "code",
        "colab": {}
      },
      "source": [
        "import cv2\n"
      ],
      "execution_count": 0,
      "outputs": []
    },
    {
      "cell_type": "code",
      "metadata": {
        "id": "Py5wr65PnKiW",
        "colab_type": "code",
        "outputId": "236aec18-4099-4f50-aa20-faf53cf5b68d",
        "colab": {
          "base_uri": "https://localhost:8080/",
          "height": 52
        }
      },
      "source": [
        "!cat /etc/issue"
      ],
      "execution_count": 0,
      "outputs": [
        {
          "output_type": "stream",
          "text": [
            "Ubuntu 18.04.3 LTS \\n \\l\n",
            "\n"
          ],
          "name": "stdout"
        }
      ]
    },
    {
      "cell_type": "code",
      "metadata": {
        "id": "70z3L3AjnZ7D",
        "colab_type": "code",
        "outputId": "8bc83f57-2f9e-4f5c-b018-1b42d0b5ff4f",
        "colab": {
          "base_uri": "https://localhost:8080/",
          "height": 34
        }
      },
      "source": [
        "!pwd\n"
      ],
      "execution_count": 0,
      "outputs": [
        {
          "output_type": "stream",
          "text": [
            "/content\n"
          ],
          "name": "stdout"
        }
      ]
    },
    {
      "cell_type": "code",
      "metadata": {
        "id": "oCOZLIMkoCIg",
        "colab_type": "code",
        "outputId": "963db282-9cf1-40a3-ab4a-1f025b7ecd46",
        "colab": {
          "base_uri": "https://localhost:8080/",
          "height": 34
        }
      },
      "source": [
        "\n",
        "!ls\n"
      ],
      "execution_count": 0,
      "outputs": [
        {
          "output_type": "stream",
          "text": [
            "sample_data\n"
          ],
          "name": "stdout"
        }
      ]
    },
    {
      "cell_type": "code",
      "metadata": {
        "id": "VQqY3P63oFS1",
        "colab_type": "code",
        "outputId": "572af1dc-4a95-4824-f0b8-d1e181302113",
        "colab": {
          "base_uri": "https://localhost:8080/",
          "height": 210
        }
      },
      "source": [
        "!wget https://encrypted-tbn0.gstatic.com/images?q=tbn%3AANd9GcRk8FcPQQ61YJhLQn-kC1BOLJR3pYXeNAIHXbjNuu7SpH8QlXPu"
      ],
      "execution_count": 0,
      "outputs": [
        {
          "output_type": "stream",
          "text": [
            "--2020-01-15 05:17:43--  https://encrypted-tbn0.gstatic.com/images?q=tbn%3AANd9GcRk8FcPQQ61YJhLQn-kC1BOLJR3pYXeNAIHXbjNuu7SpH8QlXPu\n",
            "Resolving encrypted-tbn0.gstatic.com (encrypted-tbn0.gstatic.com)... 74.125.20.138, 74.125.20.113, 74.125.20.102, ...\n",
            "Connecting to encrypted-tbn0.gstatic.com (encrypted-tbn0.gstatic.com)|74.125.20.138|:443... connected.\n",
            "HTTP request sent, awaiting response... 200 OK\n",
            "Length: 28068 (27K) [image/jpeg]\n",
            "Saving to: ‘images?q=tbn:ANd9GcRk8FcPQQ61YJhLQn-kC1BOLJR3pYXeNAIHXbjNuu7SpH8QlXPu’\n",
            "\n",
            "\r          images?q=   0%[                    ]       0  --.-KB/s               \rimages?q=tbn:ANd9Gc 100%[===================>]  27.41K  --.-KB/s    in 0s      \n",
            "\n",
            "2020-01-15 05:17:43 (129 MB/s) - ‘images?q=tbn:ANd9GcRk8FcPQQ61YJhLQn-kC1BOLJR3pYXeNAIHXbjNuu7SpH8QlXPu’ saved [28068/28068]\n",
            "\n"
          ],
          "name": "stdout"
        }
      ]
    },
    {
      "cell_type": "code",
      "metadata": {
        "id": "42mY2Yz0oswB",
        "colab_type": "code",
        "outputId": "f2faf6a6-6b26-42eb-b908-d776680b19b1",
        "colab": {
          "base_uri": "https://localhost:8080/",
          "height": 52
        }
      },
      "source": [
        "!ls\n"
      ],
      "execution_count": 0,
      "outputs": [
        {
          "output_type": "stream",
          "text": [
            "'images?q=tbn:ANd9GcRk8FcPQQ61YJhLQn-kC1BOLJR3pYXeNAIHXbjNuu7SpH8QlXPu'\n",
            " sample_data\n"
          ],
          "name": "stdout"
        }
      ]
    },
    {
      "cell_type": "code",
      "metadata": {
        "id": "FmJYgkqDozGU",
        "colab_type": "code",
        "colab": {}
      },
      "source": [
        "# now we can start with computer vision\n",
        "import cv2\n"
      ],
      "execution_count": 0,
      "outputs": []
    },
    {
      "cell_type": "code",
      "metadata": {
        "id": "XPfDEkh-pRIO",
        "colab_type": "code",
        "colab": {}
      },
      "source": [
        "# explore  all functions\n",
        "#dir(cv2)"
      ],
      "execution_count": 0,
      "outputs": []
    },
    {
      "cell_type": "code",
      "metadata": {
        "id": "tvriGM9gpZJG",
        "colab_type": "code",
        "colab": {}
      },
      "source": [
        "#[i for i in dir(cv2) if 'im' in i]# will get all func to image"
      ],
      "execution_count": 0,
      "outputs": []
    },
    {
      "cell_type": "code",
      "metadata": {
        "id": "SUZB7xX_pxUR",
        "colab_type": "code",
        "outputId": "531c347d-4df6-4676-e600-2c6fd21ef7a3",
        "colab": {
          "base_uri": "https://localhost:8080/",
          "height": 879
        }
      },
      "source": [
        "# now we are reading image\n",
        "img =cv2.imread('C:\\Users\\kalpi\\Desktop\\')\n",
        "#printing img\n",
        "img\n"
      ],
      "execution_count": 0,
      "outputs": [
        {
          "output_type": "execute_result",
          "data": {
            "text/plain": [
              "array([[[154, 152, 142],\n",
              "        [154, 152, 142],\n",
              "        [154, 152, 142],\n",
              "        ...,\n",
              "        [  5,   7,   8],\n",
              "        [  5,   7,   8],\n",
              "        [  5,   7,   8]],\n",
              "\n",
              "       [[154, 152, 142],\n",
              "        [154, 152, 142],\n",
              "        [154, 152, 142],\n",
              "        ...,\n",
              "        [  5,   7,   8],\n",
              "        [  5,   7,   8],\n",
              "        [  5,   7,   8]],\n",
              "\n",
              "       [[154, 152, 142],\n",
              "        [154, 152, 142],\n",
              "        [154, 152, 142],\n",
              "        ...,\n",
              "        [  5,   7,   8],\n",
              "        [  5,   7,   8],\n",
              "        [  5,   7,   8]],\n",
              "\n",
              "       ...,\n",
              "\n",
              "       [[211, 171, 119],\n",
              "        [211, 171, 119],\n",
              "        [210, 170, 118],\n",
              "        ...,\n",
              "        [108, 141, 167],\n",
              "        [110, 140, 167],\n",
              "        [108, 141, 167]],\n",
              "\n",
              "       [[215, 175, 123],\n",
              "        [214, 174, 122],\n",
              "        [212, 172, 120],\n",
              "        ...,\n",
              "        [112, 142, 169],\n",
              "        [113, 142, 169],\n",
              "        [112, 142, 169]],\n",
              "\n",
              "       [[217, 177, 125],\n",
              "        [216, 176, 124],\n",
              "        [214, 174, 122],\n",
              "        ...,\n",
              "        [115, 144, 171],\n",
              "        [115, 144, 171],\n",
              "        [115, 144, 171]]], dtype=uint8)"
            ]
          },
          "metadata": {
            "tags": []
          },
          "execution_count": 19
        }
      ]
    },
    {
      "cell_type": "code",
      "metadata": {
        "id": "xoaKKa40qYs2",
        "colab_type": "code",
        "outputId": "922f3a10-3bb1-4027-994a-47e2cb6c561e",
        "colab": {
          "base_uri": "https://localhost:8080/",
          "height": 34
        }
      },
      "source": [
        "img.shape"
      ],
      "execution_count": 0,
      "outputs": [
        {
          "output_type": "execute_result",
          "data": {
            "text/plain": [
              "(428, 590, 3)"
            ]
          },
          "metadata": {
            "tags": []
          },
          "execution_count": 20
        }
      ]
    },
    {
      "cell_type": "code",
      "metadata": {
        "id": "tbtFyyryrCCw",
        "colab_type": "code",
        "outputId": "e93ad092-100d-4096-9383-81d90b2ca8cf",
        "colab": {
          "base_uri": "https://localhost:8080/",
          "height": 343
        }
      },
      "source": [
        "# to view that image\n",
        "cv2.imshow('desktop', img)"
      ],
      "execution_count": 0,
      "outputs": [
        {
          "output_type": "error",
          "ename": "DisabledFunctionError",
          "evalue": "ignored",
          "traceback": [
            "\u001b[0;31m---------------------------------------------------------------------------\u001b[0m",
            "\u001b[0;31mDisabledFunctionError\u001b[0m                     Traceback (most recent call last)",
            "\u001b[0;32m<ipython-input-22-908965bf3bb0>\u001b[0m in \u001b[0;36m<module>\u001b[0;34m()\u001b[0m\n\u001b[0;32m----> 1\u001b[0;31m \u001b[0mcv2\u001b[0m\u001b[0;34m.\u001b[0m\u001b[0mimshow\u001b[0m\u001b[0;34m(\u001b[0m\u001b[0;34m'desktop'\u001b[0m\u001b[0;34m,\u001b[0m \u001b[0mimg\u001b[0m\u001b[0;34m)\u001b[0m\u001b[0;34m\u001b[0m\u001b[0;34m\u001b[0m\u001b[0m\n\u001b[0m",
            "\u001b[0;32m/usr/local/lib/python3.6/dist-packages/google/colab/_import_hooks/_cv2.py\u001b[0m in \u001b[0;36mwrapped\u001b[0;34m(*args, **kwargs)\u001b[0m\n\u001b[1;32m     50\u001b[0m   \u001b[0;32mdef\u001b[0m \u001b[0mwrapped\u001b[0m\u001b[0;34m(\u001b[0m\u001b[0;34m*\u001b[0m\u001b[0margs\u001b[0m\u001b[0;34m,\u001b[0m \u001b[0;34m**\u001b[0m\u001b[0mkwargs\u001b[0m\u001b[0;34m)\u001b[0m\u001b[0;34m:\u001b[0m\u001b[0;34m\u001b[0m\u001b[0;34m\u001b[0m\u001b[0m\n\u001b[1;32m     51\u001b[0m     \u001b[0;32mif\u001b[0m \u001b[0;32mnot\u001b[0m \u001b[0mos\u001b[0m\u001b[0;34m.\u001b[0m\u001b[0menviron\u001b[0m\u001b[0;34m.\u001b[0m\u001b[0mget\u001b[0m\u001b[0;34m(\u001b[0m\u001b[0menv_var\u001b[0m\u001b[0;34m,\u001b[0m \u001b[0;32mFalse\u001b[0m\u001b[0;34m)\u001b[0m\u001b[0;34m:\u001b[0m\u001b[0;34m\u001b[0m\u001b[0;34m\u001b[0m\u001b[0m\n\u001b[0;32m---> 52\u001b[0;31m       \u001b[0;32mraise\u001b[0m \u001b[0mDisabledFunctionError\u001b[0m\u001b[0;34m(\u001b[0m\u001b[0mmessage\u001b[0m\u001b[0;34m,\u001b[0m \u001b[0mname\u001b[0m \u001b[0;32mor\u001b[0m \u001b[0mfunc\u001b[0m\u001b[0;34m.\u001b[0m\u001b[0m__name__\u001b[0m\u001b[0;34m)\u001b[0m\u001b[0;34m\u001b[0m\u001b[0;34m\u001b[0m\u001b[0m\n\u001b[0m\u001b[1;32m     53\u001b[0m     \u001b[0;32mreturn\u001b[0m \u001b[0mfunc\u001b[0m\u001b[0;34m(\u001b[0m\u001b[0;34m*\u001b[0m\u001b[0margs\u001b[0m\u001b[0;34m,\u001b[0m \u001b[0;34m**\u001b[0m\u001b[0mkwargs\u001b[0m\u001b[0;34m)\u001b[0m\u001b[0;34m\u001b[0m\u001b[0;34m\u001b[0m\u001b[0m\n\u001b[1;32m     54\u001b[0m \u001b[0;34m\u001b[0m\u001b[0m\n",
            "\u001b[0;31mDisabledFunctionError\u001b[0m: cv2.imshow() is disabled in Colab, because it causes Jupyter sessions\nto crash; see https://github.com/jupyter/notebook/issues/3935.\nAs a substitution, consider using\n  from google.colab.patches import cv2_imshow\n"
          ]
        }
      ]
    },
    {
      "cell_type": "code",
      "metadata": {
        "id": "nZC4qLXfrq_A",
        "colab_type": "code",
        "colab": {}
      },
      "source": [
        ""
      ],
      "execution_count": 0,
      "outputs": []
    }
  ]
}